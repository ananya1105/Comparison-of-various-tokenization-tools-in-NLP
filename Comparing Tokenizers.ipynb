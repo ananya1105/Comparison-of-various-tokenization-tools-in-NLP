{
 "cells": [
  {
   "cell_type": "code",
   "execution_count": 15,
   "metadata": {},
   "outputs": [],
   "source": [
    "import pandas as pd\n",
    "import numpy as np\n",
    "from tqdm import tqdm\n",
    "from nltk.tokenize import word_tokenize\n",
    "from nltk.tokenize import WordPunctTokenizer\n",
    "from nltk.tokenize import RegexpTokenizer\n",
    "from nltk.tokenize import TweetTokenizer\n",
    "import ast\n"
   ]
  },
  {
   "cell_type": "code",
   "execution_count": 4,
   "metadata": {},
   "outputs": [],
   "source": [
    "#List of string \n",
    "compare_list = ['https://t.co/9z2J3P33Uc',\n",
    "               'laugh/cry',\n",
    "               '😬😭😓🤢🙄😱',\n",
    "               \"world's problems\",\n",
    "               \"@datageneral\",\n",
    "                \"It's interesting\",\n",
    "               \"don't spell my name right\",\n",
    "               'all-nighter']"
   ]
  },
  {
   "cell_type": "code",
   "execution_count": 5,
   "metadata": {},
   "outputs": [
    {
     "name": "stdout",
     "output_type": "stream",
     "text": [
      "['https', ':', '//t.co/9z2J3P33Uc']\n",
      "['laugh/cry']\n",
      "['😬😭😓🤢🙄😱']\n",
      "['world', \"'s\", 'problems']\n",
      "['@', 'datageneral']\n",
      "['It', \"'s\", 'interesting']\n",
      "['do', \"n't\", 'spell', 'my', 'name', 'right']\n",
      "['all-nighter']\n"
     ]
    }
   ],
   "source": [
    "word_token= []\n",
    "#sent is single string under consideration\n",
    "for sent in compare_list:\n",
    "    print(word_tokenize(sent))\n",
    "    word_token.append(word_tokenize(sent))"
   ]
  },
  {
   "cell_type": "code",
   "execution_count": 6,
   "metadata": {},
   "outputs": [
    {
     "name": "stdout",
     "output_type": "stream",
     "text": [
      "['https', '://', 't', '.', 'co', '/', '9z2J3P33Uc']\n",
      "['laugh', '/', 'cry']\n",
      "['😬😭😓🤢🙄😱']\n",
      "['world', \"'\", 's', 'problems']\n",
      "['@', 'datageneral']\n",
      "['It', \"'\", 's', 'interesting']\n",
      "['don', \"'\", 't', 'spell', 'my', 'name', 'right']\n",
      "['all', '-', 'nighter']\n"
     ]
    }
   ],
   "source": [
    "#We will use WordPunktTokenizer that takes into consideration punctuations along with words\n",
    "punct_tokenizer = WordPunctTokenizer()\n",
    "punct_tokens = []\n",
    "for sent in compare_list:\n",
    "    print(punct_tokenizer.tokenize(sent))\n",
    "    punct_tokens.append(punct_tokenizer.tokenize(sent))"
   ]
  },
  {
   "cell_type": "code",
   "execution_count": 13,
   "metadata": {},
   "outputs": [
    {
     "name": "stdout",
     "output_type": "stream",
     "text": [
      "['https://t.co/9z2J3P33Uc']\n",
      "['laugh/cry']\n",
      "['😬😭😓🤢🙄😱']\n",
      "[\"world's problems\"]\n",
      "['@datageneral']\n",
      "[\"It's interesting\"]\n",
      "[\"don't spell my name right\"]\n",
      "['all-nighter']\n"
     ]
    }
   ],
   "source": [
    "regexp = []\n",
    "pattern = RegexpTokenizer('[\\W\\w]+')\n",
    "for sent in compare_list:\n",
    "    print(pattern.tokenize(sent))\n",
    "    regexp.append(pattern.tokenize(sent))"
   ]
  },
  {
   "cell_type": "code",
   "execution_count": 14,
   "metadata": {},
   "outputs": [
    {
     "name": "stdout",
     "output_type": "stream",
     "text": [
      "['https://t.co/9z2J3P33Uc']\n",
      "['laugh/cry']\n",
      "['😬😭😓🤢🙄😱']\n",
      "[\"world's\", 'problems']\n",
      "['@datageneral']\n",
      "[\"It's\", 'interesting']\n",
      "[\"don't\", 'spell', 'my', 'name', 'right']\n",
      "['all-nighter']\n"
     ]
    }
   ],
   "source": [
    "#Matching on whitespaces\n",
    "whiteexp = []\n",
    "pattern = RegexpTokenizer('[\\s]',gaps= True)\n",
    "for sent in compare_list:\n",
    "    print(pattern.tokenize(sent))\n",
    "    whiteexp.append(pattern.tokenize(sent))"
   ]
  },
  {
   "cell_type": "code",
   "execution_count": 18,
   "metadata": {},
   "outputs": [
    {
     "name": "stdout",
     "output_type": "stream",
     "text": [
      "['https://t.co/9z2J3P33Uc']\n",
      "['laugh', '/', 'cry']\n",
      "['😬', '😭', '😓', '🤢', '🙄', '😱']\n",
      "[\"world's\", 'problems']\n",
      "['@datageneral']\n",
      "[\"It's\", 'interesting']\n",
      "[\"don't\", 'spell', 'my', 'name', 'right']\n",
      "['all-nighter']\n"
     ]
    }
   ],
   "source": [
    "tt = []\n",
    "tc = TweetTokenizer()\n",
    "for sent in compare_list:\n",
    "    print(tc.tokenize(sent))\n",
    "    tt.append(tc.tokenize(sent))"
   ]
  },
  {
   "cell_type": "code",
   "execution_count": 19,
   "metadata": {},
   "outputs": [],
   "source": [
    "#Wrapping it up in a single data frame\n",
    "token_di = {'Word_Tokenizer' : word_token, 'Word_Punkt_Tokenizer' : punct_tokens, 'RegexpTokenizer':regexp,  'RegexpTokenizer_whitespace':whiteexp, 'TweetTokenizer':tt}\n",
    "df = pd.DataFrame(token_di)"
   ]
  },
  {
   "cell_type": "code",
   "execution_count": 23,
   "metadata": {},
   "outputs": [
    {
     "data": {
      "text/html": [
       "<div>\n",
       "<style scoped>\n",
       "    .dataframe tbody tr th:only-of-type {\n",
       "        vertical-align: middle;\n",
       "    }\n",
       "\n",
       "    .dataframe tbody tr th {\n",
       "        vertical-align: top;\n",
       "    }\n",
       "\n",
       "    .dataframe thead th {\n",
       "        text-align: right;\n",
       "    }\n",
       "</style>\n",
       "<table border=\"1\" class=\"dataframe\">\n",
       "  <thead>\n",
       "    <tr style=\"text-align: right;\">\n",
       "      <th></th>\n",
       "      <th>Word_Tokenizer</th>\n",
       "      <th>Word_Punkt_Tokenizer</th>\n",
       "      <th>RegexpTokenizer</th>\n",
       "      <th>RegexpTokenizer_whitespace</th>\n",
       "      <th>TweetTokenizer</th>\n",
       "    </tr>\n",
       "  </thead>\n",
       "  <tbody>\n",
       "    <tr>\n",
       "      <td>0</td>\n",
       "      <td>[https, :, //t.co/9z2J3P33Uc]</td>\n",
       "      <td>[https, ://, t, ., co, /, 9z2J3P33Uc]</td>\n",
       "      <td>[https://t.co/9z2J3P33Uc]</td>\n",
       "      <td>[https://t.co/9z2J3P33Uc]</td>\n",
       "      <td>[https://t.co/9z2J3P33Uc]</td>\n",
       "    </tr>\n",
       "    <tr>\n",
       "      <td>1</td>\n",
       "      <td>[laugh/cry]</td>\n",
       "      <td>[laugh, /, cry]</td>\n",
       "      <td>[laugh/cry]</td>\n",
       "      <td>[laugh/cry]</td>\n",
       "      <td>[laugh, /, cry]</td>\n",
       "    </tr>\n",
       "    <tr>\n",
       "      <td>2</td>\n",
       "      <td>[😬😭😓🤢🙄😱]</td>\n",
       "      <td>[😬😭😓🤢🙄😱]</td>\n",
       "      <td>[😬😭😓🤢🙄😱]</td>\n",
       "      <td>[😬😭😓🤢🙄😱]</td>\n",
       "      <td>[😬, 😭, 😓, 🤢, 🙄, 😱]</td>\n",
       "    </tr>\n",
       "    <tr>\n",
       "      <td>3</td>\n",
       "      <td>[world, 's, problems]</td>\n",
       "      <td>[world, ', s, problems]</td>\n",
       "      <td>[world's problems]</td>\n",
       "      <td>[world's, problems]</td>\n",
       "      <td>[world's, problems]</td>\n",
       "    </tr>\n",
       "    <tr>\n",
       "      <td>4</td>\n",
       "      <td>[@, datageneral]</td>\n",
       "      <td>[@, datageneral]</td>\n",
       "      <td>[@datageneral]</td>\n",
       "      <td>[@datageneral]</td>\n",
       "      <td>[@datageneral]</td>\n",
       "    </tr>\n",
       "    <tr>\n",
       "      <td>5</td>\n",
       "      <td>[It, 's, interesting]</td>\n",
       "      <td>[It, ', s, interesting]</td>\n",
       "      <td>[It's interesting]</td>\n",
       "      <td>[It's, interesting]</td>\n",
       "      <td>[It's, interesting]</td>\n",
       "    </tr>\n",
       "    <tr>\n",
       "      <td>6</td>\n",
       "      <td>[do, n't, spell, my, name, right]</td>\n",
       "      <td>[don, ', t, spell, my, name, right]</td>\n",
       "      <td>[don't spell my name right]</td>\n",
       "      <td>[don't, spell, my, name, right]</td>\n",
       "      <td>[don't, spell, my, name, right]</td>\n",
       "    </tr>\n",
       "    <tr>\n",
       "      <td>7</td>\n",
       "      <td>[all-nighter]</td>\n",
       "      <td>[all, -, nighter]</td>\n",
       "      <td>[all-nighter]</td>\n",
       "      <td>[all-nighter]</td>\n",
       "      <td>[all-nighter]</td>\n",
       "    </tr>\n",
       "  </tbody>\n",
       "</table>\n",
       "</div>"
      ],
      "text/plain": [
       "                      Word_Tokenizer                   Word_Punkt_Tokenizer  \\\n",
       "0      [https, :, //t.co/9z2J3P33Uc]  [https, ://, t, ., co, /, 9z2J3P33Uc]   \n",
       "1                        [laugh/cry]                        [laugh, /, cry]   \n",
       "2                           [😬😭😓🤢🙄😱]                               [😬😭😓🤢🙄😱]   \n",
       "3              [world, 's, problems]                [world, ', s, problems]   \n",
       "4                   [@, datageneral]                       [@, datageneral]   \n",
       "5              [It, 's, interesting]                [It, ', s, interesting]   \n",
       "6  [do, n't, spell, my, name, right]    [don, ', t, spell, my, name, right]   \n",
       "7                      [all-nighter]                      [all, -, nighter]   \n",
       "\n",
       "               RegexpTokenizer       RegexpTokenizer_whitespace  \\\n",
       "0    [https://t.co/9z2J3P33Uc]        [https://t.co/9z2J3P33Uc]   \n",
       "1                  [laugh/cry]                      [laugh/cry]   \n",
       "2                     [😬😭😓🤢🙄😱]                         [😬😭😓🤢🙄😱]   \n",
       "3           [world's problems]              [world's, problems]   \n",
       "4               [@datageneral]                   [@datageneral]   \n",
       "5           [It's interesting]              [It's, interesting]   \n",
       "6  [don't spell my name right]  [don't, spell, my, name, right]   \n",
       "7                [all-nighter]                    [all-nighter]   \n",
       "\n",
       "                    TweetTokenizer  \n",
       "0        [https://t.co/9z2J3P33Uc]  \n",
       "1                  [laugh, /, cry]  \n",
       "2               [😬, 😭, 😓, 🤢, 🙄, 😱]  \n",
       "3              [world's, problems]  \n",
       "4                   [@datageneral]  \n",
       "5              [It's, interesting]  \n",
       "6  [don't, spell, my, name, right]  \n",
       "7                    [all-nighter]  "
      ]
     },
     "execution_count": 23,
     "metadata": {},
     "output_type": "execute_result"
    }
   ],
   "source": [
    "df.head(10)"
   ]
  },
  {
   "cell_type": "code",
   "execution_count": 22,
   "metadata": {},
   "outputs": [
    {
     "name": "stdout",
     "output_type": "stream",
     "text": [
      "<class 'pandas.core.frame.DataFrame'>\n",
      "RangeIndex: 8 entries, 0 to 7\n",
      "Data columns (total 5 columns):\n",
      "Word_Tokenizer                8 non-null object\n",
      "Word_Punkt_Tokenizer          8 non-null object\n",
      "RegexpTokenizer               8 non-null object\n",
      "RegexpTokenizer_whitespace    8 non-null object\n",
      "TweetTokenizer                8 non-null object\n",
      "dtypes: object(5)\n",
      "memory usage: 448.0+ bytes\n"
     ]
    }
   ],
   "source": [
    "df.info()"
   ]
  }
 ],
 "metadata": {
  "kernelspec": {
   "display_name": "Python 3",
   "language": "python",
   "name": "python3"
  },
  "language_info": {
   "codemirror_mode": {
    "name": "ipython",
    "version": 3
   },
   "file_extension": ".py",
   "mimetype": "text/x-python",
   "name": "python",
   "nbconvert_exporter": "python",
   "pygments_lexer": "ipython3",
   "version": "3.7.4"
  }
 },
 "nbformat": 4,
 "nbformat_minor": 2
}
